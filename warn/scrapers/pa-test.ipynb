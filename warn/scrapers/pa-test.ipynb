{
 "cells": [
  {
   "cell_type": "code",
   "execution_count": 8,
   "id": "915ab15a-e915-4264-b58b-77faa8230220",
   "metadata": {},
   "outputs": [],
   "source": [
    "import re\n",
    "\n",
    "import requests\n",
    "from pyquery import PyQuery as pq"
   ]
  },
  {
   "cell_type": "code",
   "execution_count": 9,
   "id": "44e38e79-1c28-43da-8c01-c2f24871f479",
   "metadata": {},
   "outputs": [],
   "source": [
    "r = requests.get(\"https://www.pa.gov/agencies/dli/programs-services/workforce-development-home/warn-requirements/warn-notices\")"
   ]
  },
  {
   "cell_type": "code",
   "execution_count": 10,
   "id": "7f16367a-7bc9-4147-a2fe-12c07b92ad68",
   "metadata": {},
   "outputs": [],
   "source": [
    "html = r.content"
   ]
  },
  {
   "cell_type": "code",
   "execution_count": 11,
   "id": "0e187ff6-06e2-4869-abd9-fa84cacaab35",
   "metadata": {},
   "outputs": [],
   "source": [
    "entries = pq(html)(\"div.cmp-accordion__item\")"
   ]
  },
  {
   "cell_type": "code",
   "execution_count": 12,
   "id": "145cea48-a4aa-4bb5-bfc1-775df0f87a35",
   "metadata": {},
   "outputs": [],
   "source": [
    "# NOT USED. NOT FINISHED. Mostly implemented below.\n",
    "\n",
    "def clean_deets(deets: str):\n",
    "    deets = \"COUNT\" + \"COUNT\".join(blob.split(\"COUNT\")[1:])   # Split on COUNTY/COUNTIES\n",
    "    deets = deets.replace(\"\\xa0\", \" \")     # Fake spaces or non-breaking spaces show up\n",
    "    deets = deets.replace(\"# AFFECTED\", \"AFFECTED\")\n",
    "    if deets.beginswith(\"COUNTIES\"):\n",
    "        deets = deets.replace(\"COUNTIES\", \"COUNTY\")   # Replace anywhere. This can't go wrong.\n",
    "    lines = deets.split(\"\\n\")\n",
    "    better = []\n",
    "    betteri = 0\n",
    "    # for linei, line in enumerate(lines):\n",
    "        "
   ]
  },
  {
   "cell_type": "code",
   "execution_count": 17,
   "id": "8b2aab68-4e6d-4ba9-b7f1-7766a1b20938",
   "metadata": {},
   "outputs": [],
   "source": [
    "masterlist = []\n",
    "for entry in entries:\n",
    "    if not \"cmp-accordion__item\" in pq(entry).html():   # Fin items not holing other items\n",
    "        line = {}\n",
    "        line['Company'] = pq(entry)(\"span.cmp-accordion__title\").text().strip()\n",
    "        blob = pq(entry)(\"div.text\").text()\n",
    "        # address = pq(pq(blob)(\"p\")[0]).text()\n",
    "        # addressfull = \", \".join(address.split(\"\\n\"))\n",
    "        address = blob.split(\"COUNT\")[0].strip()\n",
    "        deets = \"COUNT\" + \"COUNT\".join(blob.split(\"COUNT\")[1:]).replace(\"\\xa0\", \" \").replace(\"# AFFECTED\", \"AFFECTED\")\n",
    "        deets = deets.split(\"\\n\")\n",
    "        line['addressfull'] = address.replace(\"\\n\", \", \")\n",
    "        lastkey = None\n",
    "        for deet in deets:\n",
    "            if \"PHASE\" in deet.upper():\n",
    "                if len(line[lastkey]) > 0:\n",
    "                    line[lastkey] += \" ... \"\n",
    "                line[lastkey] += deet.strip()                \n",
    "            elif \":\" in deet and \"Ending:\" not in deet:\n",
    "                key = deet.split(\":\")[0]\n",
    "                if key == \"COUNTIES\":\n",
    "                    key = \"COUNTY\"\n",
    "                value = \": \".join(deet.split(\":\")[1:]).strip()\n",
    "                line[key] = value\n",
    "                lastkey = key\n",
    "            else:   # No colon in deet and no Phase\n",
    "                if len(line[lastkey]) > 0:\n",
    "                    line[lastkey] += \" ... \"\n",
    "                line[lastkey] += deet.strip()\n",
    "            \n",
    "        masterlist.append(line)"
   ]
  },
  {
   "cell_type": "code",
   "execution_count": 18,
   "id": "ce551799-fadf-40a9-b8f3-f2623995fd1a",
   "metadata": {},
   "outputs": [],
   "source": [
    "crosswalk = {\n",
    "    \"COUNTIES\": \"county\",\n",
    "    \"COUNTY\": \"county\",\n",
    "    \"Company\": \"company\",\n",
    "    \"addressfull\": \"addressfull\",\n",
    "    \"AFFECTED\": \"jobs\",\n",
    "    \"EFFECTIVE DATE\": \"date_effective\",\n",
    "    \"EFFECTIVE DATES\": \"date_effective\",\n",
    "    \"CLOSURE OR LAYOFF\": \"closure_or_layoff\",\n",
    "}"
   ]
  },
  {
   "cell_type": "code",
   "execution_count": 19,
   "id": "341a18d1-eeb6-4d73-914d-2d5656ed8d57",
   "metadata": {},
   "outputs": [
    {
     "name": "stdout",
     "output_type": "stream",
     "text": [
      "Company: 231\n",
      "addressfull: 231\n",
      "COUNTY: 231\n",
      "AFFECTED: 231\n",
      "EFFECTIVE DATE: 190\n",
      "CLOSURE OR LAYOFF: 231\n",
      "EFFECTIVE DATES: 28\n"
     ]
    }
   ],
   "source": [
    "tallies = {}\n",
    "for row in masterlist:\n",
    "    for entry in row:\n",
    "        if entry not in tallies:\n",
    "            tallies[entry] = 0\n",
    "        tallies[entry] += 1\n",
    "for entry in tallies:\n",
    "    print(f\"{entry}: {tallies[entry]}\")"
   ]
  },
  {
   "cell_type": "code",
   "execution_count": 20,
   "id": "02b465e3-7598-4215-b985-3cfbd39ac2e1",
   "metadata": {},
   "outputs": [],
   "source": [
    "templist = masterlist\n",
    "masterlist = []\n",
    "for row in templist:\n",
    "    line = {}\n",
    "    for item in row:\n",
    "        if item not in crosswalk:\n",
    "            print(f\"Failed to find a matching crosswalk term for {item}\")\n",
    "        else:\n",
    "            line[crosswalk[item]] = row[item]\n",
    "    masterlist.append(line)"
   ]
  },
  {
   "cell_type": "code",
   "execution_count": null,
   "id": "29851566-fd1d-4f9a-bce8-80996238a791",
   "metadata": {},
   "outputs": [],
   "source": []
  },
  {
   "cell_type": "code",
   "execution_count": null,
   "id": "45ea2e8f-42a7-466e-af8d-e4cf1118faa3",
   "metadata": {},
   "outputs": [],
   "source": []
  },
  {
   "cell_type": "code",
   "execution_count": null,
   "id": "50bf6681-4262-4db5-84b4-05fdf076f9cd",
   "metadata": {},
   "outputs": [],
   "source": []
  },
  {
   "cell_type": "code",
   "execution_count": null,
   "id": "6f7e5df0-5389-47a2-ae59-05b5d5c34816",
   "metadata": {},
   "outputs": [],
   "source": [
    "# multiple ates an aresses:\n",
    "print(masterlist[200])"
   ]
  },
  {
   "cell_type": "code",
   "execution_count": null,
   "id": "7ee1e169-3e87-49e9-93e3-72c5847f287c",
   "metadata": {},
   "outputs": [],
   "source": [
    "print(pq(entry))"
   ]
  },
  {
   "cell_type": "code",
   "execution_count": null,
   "id": "e12bb242-cee4-4bf8-8260-004f4cfbc90c",
   "metadata": {},
   "outputs": [],
   "source": [
    "print(pq(blob).text())"
   ]
  },
  {
   "cell_type": "code",
   "execution_count": null,
   "id": "dc14ce92-031b-4e9f-a99d-bf73d72bb96b",
   "metadata": {},
   "outputs": [],
   "source": []
  },
  {
   "cell_type": "code",
   "execution_count": null,
   "id": "f18aeeb2-f32e-42e3-b529-9ac59dd7dad8",
   "metadata": {},
   "outputs": [],
   "source": [
    "len(masterlist)"
   ]
  },
  {
   "cell_type": "code",
   "execution_count": null,
   "id": "85ec63af-249f-4328-9956-67d784801288",
   "metadata": {},
   "outputs": [],
   "source": []
  },
  {
   "cell_type": "code",
   "execution_count": null,
   "id": "89085417-628e-45d2-9e12-e3b7ca4cf145",
   "metadata": {},
   "outputs": [],
   "source": []
  }
 ],
 "metadata": {
  "kernelspec": {
   "display_name": "Python 3 (ipykernel)",
   "language": "python",
   "name": "python3"
  },
  "language_info": {
   "codemirror_mode": {
    "name": "ipython",
    "version": 3
   },
   "file_extension": ".py",
   "mimetype": "text/x-python",
   "name": "python",
   "nbconvert_exporter": "python",
   "pygments_lexer": "ipython3",
   "version": "3.12.3"
  }
 },
 "nbformat": 4,
 "nbformat_minor": 5
}
